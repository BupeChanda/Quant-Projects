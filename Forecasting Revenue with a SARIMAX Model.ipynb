{
 "cells": [
  {
   "cell_type": "markdown",
   "id": "4a18712b",
   "metadata": {},
   "source": [
    "# 1.0 Set up"
   ]
  },
  {
   "cell_type": "markdown",
   "id": "28dc3666",
   "metadata": {},
   "source": [
    "## 1.1 Introduction"
   ]
  },
  {
   "cell_type": "markdown",
   "id": "fdcacbab",
   "metadata": {},
   "source": [
    "SARIMAX stands for Seasonal AutoRegressive Integrated Moving Average with Exogenous Variables. It is a forecasting model that builds on ARIMA models by including exogenous variables. A SARIMAX model is used to forecast time series data with seasonal patterns that might by influenced by the included exogenous variables. \n",
    "\n",
    "In this file, I will be explaining how a SARIMAX model was trained on a collection of historic financial and macroeconomic data in order to try predicting the 2024 Q4 financial performance of the Brazilian company Companhia Energética de Minas Gerais S.A. (CEMIG)."
   ]
  },
  {
   "cell_type": "markdown",
   "id": "830fd37b",
   "metadata": {},
   "source": [
    "## 1.2 Import Necessary Modules"
   ]
  },
  {
   "cell_type": "markdown",
   "id": "fc9a8b3c",
   "metadata": {},
   "source": [
    "Before importing any data or starting with any pre-processing or exploratory data analysis, I have collected all the modules used in this code in a single cell near the top, for ease of access. If necessary, be sure to install all the following modules in order to be able to run the rest of the code. All libraries used here are explained in the ReadMe File. \n",
    "\n"
   ]
  },
  {
   "cell_type": "code",
   "execution_count": 1,
   "id": "1958f07d",
   "metadata": {},
   "outputs": [],
   "source": [
    "# Standard Data Analysis and Visualisation Libraries\n",
    "import pandas as pd\n",
    "import numpy as np\n",
    "import matplotlib.pyplot as plt\n",
    "import itertools\n",
    "\n",
    "# Statsmodels Library for forecasting\n",
    "import statsmodels.api as sm\n",
    "from statsmodels.tsa.statespace.sarimax import SARIMAX\n",
    "\n",
    "# Sci-kit Learn to split and test the model\n",
    "from sklearn.model_selection import train_test_split\n",
    "from sklearn.metrics import mean_squared_error\n",
    "\n"
   ]
  },
  {
   "cell_type": "markdown",
   "id": "c045e491",
   "metadata": {},
   "source": [
    "## 1.3 Upload Data"
   ]
  },
  {
   "cell_type": "markdown",
   "id": "8c987862",
   "metadata": {},
   "source": [
    "All the financial data used for this example is from https://www.macrotrends.net/stocks/charts/CIG/comp-en-de-mn-cemig-ads/revenue. I opted to use CEMIG's quarterly revenue data from Macrotrends, however the code and technique should still work with other financial metrics. The macroeconomic variables might have to be changed to something more relevant for different financial metrics.\n",
    "\n",
    "All the macroeconomic data was sourced from the relevent Trading economics Page, e.g. https://tradingeconomics.com/brazil/inflation-cpi."
   ]
  },
  {
   "cell_type": "code",
   "execution_count": 2,
   "id": "e2e69db5",
   "metadata": {},
   "outputs": [
    {
     "data": {
      "text/html": [
       "<div>\n",
       "<style scoped>\n",
       "    .dataframe tbody tr th:only-of-type {\n",
       "        vertical-align: middle;\n",
       "    }\n",
       "\n",
       "    .dataframe tbody tr th {\n",
       "        vertical-align: top;\n",
       "    }\n",
       "\n",
       "    .dataframe thead th {\n",
       "        text-align: right;\n",
       "    }\n",
       "</style>\n",
       "<table border=\"1\" class=\"dataframe\">\n",
       "  <thead>\n",
       "    <tr style=\"text-align: right;\">\n",
       "      <th></th>\n",
       "      <th>RG1</th>\n",
       "      <th>RG2</th>\n",
       "      <th>RG3</th>\n",
       "      <th>Share Price</th>\n",
       "      <th>GDP</th>\n",
       "      <th>Inflation</th>\n",
       "      <th>Interest</th>\n",
       "    </tr>\n",
       "    <tr>\n",
       "      <th>Quarter</th>\n",
       "      <th></th>\n",
       "      <th></th>\n",
       "      <th></th>\n",
       "      <th></th>\n",
       "      <th></th>\n",
       "      <th></th>\n",
       "      <th></th>\n",
       "    </tr>\n",
       "  </thead>\n",
       "  <tbody>\n",
       "    <tr>\n",
       "      <th>2010 Q1</th>\n",
       "      <td>-4.770215</td>\n",
       "      <td>-5.757052</td>\n",
       "      <td>7.626561</td>\n",
       "      <td>-6.501951</td>\n",
       "      <td>2.4</td>\n",
       "      <td>5.17</td>\n",
       "      <td>0.000000</td>\n",
       "    </tr>\n",
       "    <tr>\n",
       "      <th>2010 Q2</th>\n",
       "      <td>1.649359</td>\n",
       "      <td>-3.199535</td>\n",
       "      <td>-4.202648</td>\n",
       "      <td>-2.642559</td>\n",
       "      <td>0.9</td>\n",
       "      <td>4.84</td>\n",
       "      <td>17.142857</td>\n",
       "    </tr>\n",
       "    <tr>\n",
       "      <th>2010 Q3</th>\n",
       "      <td>11.959135</td>\n",
       "      <td>13.805742</td>\n",
       "      <td>8.376963</td>\n",
       "      <td>5.000000</td>\n",
       "      <td>0.9</td>\n",
       "      <td>4.70</td>\n",
       "      <td>4.878049</td>\n",
       "    </tr>\n",
       "    <tr>\n",
       "      <th>2010 Q4</th>\n",
       "      <td>20.021471</td>\n",
       "      <td>34.375000</td>\n",
       "      <td>36.591326</td>\n",
       "      <td>-2.721088</td>\n",
       "      <td>1.4</td>\n",
       "      <td>5.91</td>\n",
       "      <td>0.000000</td>\n",
       "    </tr>\n",
       "    <tr>\n",
       "      <th>2011 Q1</th>\n",
       "      <td>-8.944544</td>\n",
       "      <td>9.286098</td>\n",
       "      <td>22.355769</td>\n",
       "      <td>15.664336</td>\n",
       "      <td>1.6</td>\n",
       "      <td>6.30</td>\n",
       "      <td>9.302326</td>\n",
       "    </tr>\n",
       "  </tbody>\n",
       "</table>\n",
       "</div>"
      ],
      "text/plain": [
       "               RG1        RG2        RG3  Share Price  GDP  Inflation  \\\n",
       "Quarter                                                                 \n",
       "2010 Q1  -4.770215  -5.757052   7.626561    -6.501951  2.4       5.17   \n",
       "2010 Q2   1.649359  -3.199535  -4.202648    -2.642559  0.9       4.84   \n",
       "2010 Q3  11.959135  13.805742   8.376963     5.000000  0.9       4.70   \n",
       "2010 Q4  20.021471  34.375000  36.591326    -2.721088  1.4       5.91   \n",
       "2011 Q1  -8.944544   9.286098  22.355769    15.664336  1.6       6.30   \n",
       "\n",
       "          Interest  \n",
       "Quarter             \n",
       "2010 Q1   0.000000  \n",
       "2010 Q2  17.142857  \n",
       "2010 Q3   4.878049  \n",
       "2010 Q4   0.000000  \n",
       "2011 Q1   9.302326  "
      ]
     },
     "execution_count": 2,
     "metadata": {},
     "output_type": "execute_result"
    }
   ],
   "source": [
    "# Load the dataset\n",
    "data_path = 'Revenue Training Data.csv'\n",
    "data = pd.read_csv(data_path)\n",
    "\n",
    "# Make the Quarter the index\n",
    "data.set_index('Quarter', inplace=True)\n",
    "\n",
    "# Reverse the Data Frame\n",
    "data = data[::-1]\n",
    "\n",
    "data.head()"
   ]
  },
  {
   "cell_type": "markdown",
   "id": "88722128",
   "metadata": {},
   "source": [
    "## 1.4 Creating the Input and Output Data Frames"
   ]
  },
  {
   "cell_type": "markdown",
   "id": "7e8975e9",
   "metadata": {},
   "source": [
    "As with most supervised training models, the dataset used here for training and testing include an input space and an output space. The input space is a 7-dimensional vector, comprised of a mix of macroeconomic data as well as the company's financial data (All data collected at quarterly intervals).\n",
    "\n",
    "The macroeconomic data used in this example is the quarterly percentage change in GDP, the inflation rate, and the quarterly percentage change in interest rates. Because inflation is already a rate of change of prices over time, I decided not to use its percentage change. \n",
    "\n",
    "I opted to use the change in values as opposed to absolute values because I wanted the data to have stationary statistical properties in order to improve consistency and predictability.\n",
    "\n",
    "The financial data used was the percentage change in the share price over the last quarter, and the percentage change of the revenue from the last 3 quarters. \n",
    "\n",
    "It is important to note that as opposed to finding the percentage change of the revenue between quarters (e.g.  Q1-Q2, Q2-Q3 and Q3-4), I found the aggregate percentage change (i.e. Q4-Q3, Q4-Q2, Q4-Q1).\n",
    "\n",
    "The output space of the dataset was the column RG1. This is the revenue growth across the last term. The revenue growth columns had a lag applied to them (i.e. moved down 1 column). As such, how the revenue grew in the previous quarters across the last 3 quarters was used to predict the revenue growth between the revenue growth between the last quarter and the current one. "
   ]
  },
  {
   "cell_type": "markdown",
   "id": "d5fcf384",
   "metadata": {},
   "source": [
    "Inflation data is made available monthly, and interest rates are consistent until changed. Additionally, the closing stock price of a company is made available at the end of every trading day, therefore, all that data was fairly straightforward to acquire for the 2024 Q4. However GDP for Q4 is not yet out. As such, I used the Banco Bilbao Vizcaya Argentaria (BBVA) prediction of a 3% growth rate in 2024. I then used the growth rates from Q1-Q3 of 2024 to estimate what the 2024 Q4 growth rate would need to be in order to satisfy the 3% growth rate for 2024"
   ]
  },
  {
   "cell_type": "markdown",
   "id": "150cde6c",
   "metadata": {},
   "source": [
    "## 1.5 Lagged Revenue"
   ]
  },
  {
   "cell_type": "code",
   "execution_count": 3,
   "id": "9ea90e1c",
   "metadata": {},
   "outputs": [
    {
     "data": {
      "text/html": [
       "<div>\n",
       "<style scoped>\n",
       "    .dataframe tbody tr th:only-of-type {\n",
       "        vertical-align: middle;\n",
       "    }\n",
       "\n",
       "    .dataframe tbody tr th {\n",
       "        vertical-align: top;\n",
       "    }\n",
       "\n",
       "    .dataframe thead th {\n",
       "        text-align: right;\n",
       "    }\n",
       "</style>\n",
       "<table border=\"1\" class=\"dataframe\">\n",
       "  <thead>\n",
       "    <tr style=\"text-align: right;\">\n",
       "      <th></th>\n",
       "      <th>RG1</th>\n",
       "      <th>RG2</th>\n",
       "      <th>RG3</th>\n",
       "    </tr>\n",
       "    <tr>\n",
       "      <th>Quarter</th>\n",
       "      <th></th>\n",
       "      <th></th>\n",
       "      <th></th>\n",
       "    </tr>\n",
       "  </thead>\n",
       "  <tbody>\n",
       "    <tr>\n",
       "      <th>2010 Q1</th>\n",
       "      <td>0.000000</td>\n",
       "      <td>0.000000</td>\n",
       "      <td>0.000000</td>\n",
       "    </tr>\n",
       "    <tr>\n",
       "      <th>2010 Q2</th>\n",
       "      <td>-4.770215</td>\n",
       "      <td>-5.757052</td>\n",
       "      <td>7.626561</td>\n",
       "    </tr>\n",
       "    <tr>\n",
       "      <th>2010 Q3</th>\n",
       "      <td>1.649359</td>\n",
       "      <td>-3.199535</td>\n",
       "      <td>-4.202648</td>\n",
       "    </tr>\n",
       "    <tr>\n",
       "      <th>2010 Q4</th>\n",
       "      <td>11.959135</td>\n",
       "      <td>13.805742</td>\n",
       "      <td>8.376963</td>\n",
       "    </tr>\n",
       "    <tr>\n",
       "      <th>2011 Q1</th>\n",
       "      <td>20.021471</td>\n",
       "      <td>34.375000</td>\n",
       "      <td>36.591326</td>\n",
       "    </tr>\n",
       "  </tbody>\n",
       "</table>\n",
       "</div>"
      ],
      "text/plain": [
       "               RG1        RG2        RG3\n",
       "Quarter                                 \n",
       "2010 Q1   0.000000   0.000000   0.000000\n",
       "2010 Q2  -4.770215  -5.757052   7.626561\n",
       "2010 Q3   1.649359  -3.199535  -4.202648\n",
       "2010 Q4  11.959135  13.805742   8.376963\n",
       "2011 Q1  20.021471  34.375000  36.591326"
      ]
     },
     "execution_count": 3,
     "metadata": {},
     "output_type": "execute_result"
    }
   ],
   "source": [
    "# Shift the revenue growth down by 1\n",
    "lagged_revenue = data[['RG1', 'RG2', 'RG3']].shift(1, fill_value=0)\n",
    "\n",
    "lagged_revenue.head()"
   ]
  },
  {
   "cell_type": "markdown",
   "id": "b4c8a9fb",
   "metadata": {},
   "source": [
    "## 1.6 Full Input Space"
   ]
  },
  {
   "cell_type": "code",
   "execution_count": 4,
   "id": "19213b9d",
   "metadata": {},
   "outputs": [
    {
     "data": {
      "text/html": [
       "<div>\n",
       "<style scoped>\n",
       "    .dataframe tbody tr th:only-of-type {\n",
       "        vertical-align: middle;\n",
       "    }\n",
       "\n",
       "    .dataframe tbody tr th {\n",
       "        vertical-align: top;\n",
       "    }\n",
       "\n",
       "    .dataframe thead th {\n",
       "        text-align: right;\n",
       "    }\n",
       "</style>\n",
       "<table border=\"1\" class=\"dataframe\">\n",
       "  <thead>\n",
       "    <tr style=\"text-align: right;\">\n",
       "      <th></th>\n",
       "      <th>RG Lag 1</th>\n",
       "      <th>RG Lag 2</th>\n",
       "      <th>RG Lag 3</th>\n",
       "      <th>Share Price</th>\n",
       "      <th>GDP</th>\n",
       "      <th>Inflation</th>\n",
       "      <th>Interest</th>\n",
       "    </tr>\n",
       "    <tr>\n",
       "      <th>Quarter</th>\n",
       "      <th></th>\n",
       "      <th></th>\n",
       "      <th></th>\n",
       "      <th></th>\n",
       "      <th></th>\n",
       "      <th></th>\n",
       "      <th></th>\n",
       "    </tr>\n",
       "  </thead>\n",
       "  <tbody>\n",
       "    <tr>\n",
       "      <th>2010 Q2</th>\n",
       "      <td>-4.770215</td>\n",
       "      <td>-5.757052</td>\n",
       "      <td>7.626561</td>\n",
       "      <td>-2.642559</td>\n",
       "      <td>0.9</td>\n",
       "      <td>4.84</td>\n",
       "      <td>17.142857</td>\n",
       "    </tr>\n",
       "    <tr>\n",
       "      <th>2010 Q3</th>\n",
       "      <td>1.649359</td>\n",
       "      <td>-3.199535</td>\n",
       "      <td>-4.202648</td>\n",
       "      <td>5.000000</td>\n",
       "      <td>0.9</td>\n",
       "      <td>4.70</td>\n",
       "      <td>4.878049</td>\n",
       "    </tr>\n",
       "    <tr>\n",
       "      <th>2010 Q4</th>\n",
       "      <td>11.959135</td>\n",
       "      <td>13.805742</td>\n",
       "      <td>8.376963</td>\n",
       "      <td>-2.721088</td>\n",
       "      <td>1.4</td>\n",
       "      <td>5.91</td>\n",
       "      <td>0.000000</td>\n",
       "    </tr>\n",
       "    <tr>\n",
       "      <th>2011 Q1</th>\n",
       "      <td>20.021471</td>\n",
       "      <td>34.375000</td>\n",
       "      <td>36.591326</td>\n",
       "      <td>15.664336</td>\n",
       "      <td>1.6</td>\n",
       "      <td>6.30</td>\n",
       "      <td>9.302326</td>\n",
       "    </tr>\n",
       "    <tr>\n",
       "      <th>2011 Q2</th>\n",
       "      <td>-8.944544</td>\n",
       "      <td>9.286098</td>\n",
       "      <td>22.355769</td>\n",
       "      <td>2.539299</td>\n",
       "      <td>0.7</td>\n",
       "      <td>6.71</td>\n",
       "      <td>4.255319</td>\n",
       "    </tr>\n",
       "  </tbody>\n",
       "</table>\n",
       "</div>"
      ],
      "text/plain": [
       "          RG Lag 1   RG Lag 2   RG Lag 3  Share Price  GDP  Inflation  \\\n",
       "Quarter                                                                 \n",
       "2010 Q2  -4.770215  -5.757052   7.626561    -2.642559  0.9       4.84   \n",
       "2010 Q3   1.649359  -3.199535  -4.202648     5.000000  0.9       4.70   \n",
       "2010 Q4  11.959135  13.805742   8.376963    -2.721088  1.4       5.91   \n",
       "2011 Q1  20.021471  34.375000  36.591326    15.664336  1.6       6.30   \n",
       "2011 Q2  -8.944544   9.286098  22.355769     2.539299  0.7       6.71   \n",
       "\n",
       "          Interest  \n",
       "Quarter             \n",
       "2010 Q2  17.142857  \n",
       "2010 Q3   4.878049  \n",
       "2010 Q4   0.000000  \n",
       "2011 Q1   9.302326  \n",
       "2011 Q2   4.255319  "
      ]
     },
     "execution_count": 4,
     "metadata": {},
     "output_type": "execute_result"
    }
   ],
   "source": [
    "# Merge the shifted Financial data with the macro data\n",
    "full_input = data[['Share Price', 'GDP', 'Inflation', 'Interest']]\n",
    "full_input = pd.merge(lagged_revenue, full_input, left_index=True, right_index=True)\n",
    "\n",
    "# Remove the empty row and rename the columns\n",
    "full_input = full_input.drop(index = '2010 Q1')\n",
    "full_input = full_input.rename(columns={'RG1': 'RG Lag 1', 'RG2': 'RG Lag 2', 'RG3': 'RG Lag 3'})\n",
    "\n",
    "full_input.head()"
   ]
  },
  {
   "cell_type": "markdown",
   "id": "0ff7e885",
   "metadata": {},
   "source": [
    "## 1.7 Output Space"
   ]
  },
  {
   "cell_type": "code",
   "execution_count": 5,
   "id": "05a12a88",
   "metadata": {},
   "outputs": [
    {
     "data": {
      "text/html": [
       "<div>\n",
       "<style scoped>\n",
       "    .dataframe tbody tr th:only-of-type {\n",
       "        vertical-align: middle;\n",
       "    }\n",
       "\n",
       "    .dataframe tbody tr th {\n",
       "        vertical-align: top;\n",
       "    }\n",
       "\n",
       "    .dataframe thead th {\n",
       "        text-align: right;\n",
       "    }\n",
       "</style>\n",
       "<table border=\"1\" class=\"dataframe\">\n",
       "  <thead>\n",
       "    <tr style=\"text-align: right;\">\n",
       "      <th></th>\n",
       "      <th>RG1</th>\n",
       "    </tr>\n",
       "    <tr>\n",
       "      <th>Quarter</th>\n",
       "      <th></th>\n",
       "    </tr>\n",
       "  </thead>\n",
       "  <tbody>\n",
       "    <tr>\n",
       "      <th>2010 Q2</th>\n",
       "      <td>1.649359</td>\n",
       "    </tr>\n",
       "    <tr>\n",
       "      <th>2010 Q3</th>\n",
       "      <td>11.959135</td>\n",
       "    </tr>\n",
       "    <tr>\n",
       "      <th>2010 Q4</th>\n",
       "      <td>20.021471</td>\n",
       "    </tr>\n",
       "    <tr>\n",
       "      <th>2011 Q1</th>\n",
       "      <td>-8.944544</td>\n",
       "    </tr>\n",
       "    <tr>\n",
       "      <th>2011 Q2</th>\n",
       "      <td>17.730845</td>\n",
       "    </tr>\n",
       "  </tbody>\n",
       "</table>\n",
       "</div>"
      ],
      "text/plain": [
       "               RG1\n",
       "Quarter           \n",
       "2010 Q2   1.649359\n",
       "2010 Q3  11.959135\n",
       "2010 Q4  20.021471\n",
       "2011 Q1  -8.944544\n",
       "2011 Q2  17.730845"
      ]
     },
     "execution_count": 5,
     "metadata": {},
     "output_type": "execute_result"
    }
   ],
   "source": [
    "output = data[['RG1']]\n",
    "output = output.drop(index = '2010 Q1')\n",
    "output.head()"
   ]
  },
  {
   "cell_type": "markdown",
   "id": "08352380",
   "metadata": {},
   "source": [
    "## 1.8 Split the Data Set"
   ]
  },
  {
   "cell_type": "code",
   "execution_count": 6,
   "id": "59783352",
   "metadata": {},
   "outputs": [
    {
     "data": {
      "text/html": [
       "<div>\n",
       "<style scoped>\n",
       "    .dataframe tbody tr th:only-of-type {\n",
       "        vertical-align: middle;\n",
       "    }\n",
       "\n",
       "    .dataframe tbody tr th {\n",
       "        vertical-align: top;\n",
       "    }\n",
       "\n",
       "    .dataframe thead th {\n",
       "        text-align: right;\n",
       "    }\n",
       "</style>\n",
       "<table border=\"1\" class=\"dataframe\">\n",
       "  <thead>\n",
       "    <tr style=\"text-align: right;\">\n",
       "      <th></th>\n",
       "      <th>RG1</th>\n",
       "      <th>RG Lag 1</th>\n",
       "      <th>RG Lag 2</th>\n",
       "      <th>RG Lag 3</th>\n",
       "      <th>Share Price</th>\n",
       "      <th>GDP</th>\n",
       "      <th>Inflation</th>\n",
       "      <th>Interest</th>\n",
       "    </tr>\n",
       "  </thead>\n",
       "  <tbody>\n",
       "    <tr>\n",
       "      <th>2021-12-31</th>\n",
       "      <td>-5.540318</td>\n",
       "      <td>31.340058</td>\n",
       "      <td>40.122982</td>\n",
       "      <td>47.850770</td>\n",
       "      <td>-6.506024</td>\n",
       "      <td>1.0</td>\n",
       "      <td>10.06</td>\n",
       "      <td>48.000000</td>\n",
       "    </tr>\n",
       "    <tr>\n",
       "      <th>2022-03-31</th>\n",
       "      <td>-12.775842</td>\n",
       "      <td>-5.540318</td>\n",
       "      <td>24.063401</td>\n",
       "      <td>32.359723</td>\n",
       "      <td>15.979381</td>\n",
       "      <td>1.0</td>\n",
       "      <td>11.30</td>\n",
       "      <td>27.027027</td>\n",
       "    </tr>\n",
       "    <tr>\n",
       "      <th>2022-06-30</th>\n",
       "      <td>11.118509</td>\n",
       "      <td>-12.775842</td>\n",
       "      <td>-17.608338</td>\n",
       "      <td>8.213256</td>\n",
       "      <td>-11.333333</td>\n",
       "      <td>1.3</td>\n",
       "      <td>11.89</td>\n",
       "      <td>12.765957</td>\n",
       "    </tr>\n",
       "    <tr>\n",
       "      <th>2022-09-30</th>\n",
       "      <td>5.452367</td>\n",
       "      <td>11.118509</td>\n",
       "      <td>-3.077816</td>\n",
       "      <td>-8.447614</td>\n",
       "      <td>3.759398</td>\n",
       "      <td>0.4</td>\n",
       "      <td>7.17</td>\n",
       "      <td>3.773585</td>\n",
       "    </tr>\n",
       "    <tr>\n",
       "      <th>2022-12-31</th>\n",
       "      <td>-0.852273</td>\n",
       "      <td>5.452367</td>\n",
       "      <td>17.177097</td>\n",
       "      <td>2.206736</td>\n",
       "      <td>3.502415</td>\n",
       "      <td>0.1</td>\n",
       "      <td>5.79</td>\n",
       "      <td>0.000000</td>\n",
       "    </tr>\n",
       "  </tbody>\n",
       "</table>\n",
       "</div>"
      ],
      "text/plain": [
       "                  RG1   RG Lag 1   RG Lag 2   RG Lag 3  Share Price  GDP  \\\n",
       "2021-12-31  -5.540318  31.340058  40.122982  47.850770    -6.506024  1.0   \n",
       "2022-03-31 -12.775842  -5.540318  24.063401  32.359723    15.979381  1.0   \n",
       "2022-06-30  11.118509 -12.775842 -17.608338   8.213256   -11.333333  1.3   \n",
       "2022-09-30   5.452367  11.118509  -3.077816  -8.447614     3.759398  0.4   \n",
       "2022-12-31  -0.852273   5.452367  17.177097   2.206736     3.502415  0.1   \n",
       "\n",
       "            Inflation   Interest  \n",
       "2021-12-31      10.06  48.000000  \n",
       "2022-03-31      11.30  27.027027  \n",
       "2022-06-30      11.89  12.765957  \n",
       "2022-09-30       7.17   3.773585  \n",
       "2022-12-31       5.79   0.000000  "
      ]
     },
     "execution_count": 6,
     "metadata": {},
     "output_type": "execute_result"
    }
   ],
   "source": [
    "# Extract exogenous variables and target for training and testing\n",
    "train_size = int(len(output)*0.8)\n",
    "\n",
    "full_data = pd.merge(output, full_input, left_index=True, right_index=True)\n",
    "\n",
    "dates = pd.date_range(start='2010-06-30', end='2024-09-30', freq='QE')\n",
    "full_data.index = dates\n",
    "\n",
    "train = full_data.iloc[:train_size]\n",
    "test = full_data.iloc[train_size:]\n",
    "\n",
    "test.head()"
   ]
  },
  {
   "cell_type": "code",
   "execution_count": 7,
   "id": "eaa9177b",
   "metadata": {},
   "outputs": [],
   "source": [
    "\n",
    "# Define exogenous variables for training and testing\n",
    "exog_train = train[\n",
    "                    ['RG Lag 1', 'RG Lag 2', 'RG Lag 3',\n",
    "                     'Share Price', \n",
    "                     'GDP', 'Inflation', 'Interest']\n",
    "                  ]\n",
    "\n",
    "exog_test = test[\n",
    "                    ['RG Lag 1', 'RG Lag 2', 'RG Lag 3',\n",
    "                     'Share Price', \n",
    "                     'GDP', 'Inflation', 'Interest']\n",
    "                  ]"
   ]
  },
  {
   "cell_type": "markdown",
   "id": "1eb99602",
   "metadata": {},
   "source": [
    "# 2.0 Fitting the Model"
   ]
  },
  {
   "cell_type": "markdown",
   "id": "83a97f6f",
   "metadata": {},
   "source": [
    "## 2.1 Find the ideal combination of terms"
   ]
  },
  {
   "cell_type": "code",
   "execution_count": 8,
   "id": "df0c8ce0",
   "metadata": {},
   "outputs": [],
   "source": [
    "p = range(0, 3)  # AR terms\n",
    "d = range(0, 3)  # Differencing\n",
    "q = range(0, 3)  # MA terms\n",
    "\n",
    "param_grid = list(itertools.product(p, d, q))"
   ]
  },
  {
   "cell_type": "markdown",
   "id": "85a3f37d",
   "metadata": {},
   "source": [
    "###  2.1.1 Akaike Information Criterion (AIC)"
   ]
  },
  {
   "cell_type": "markdown",
   "id": "8a67e658",
   "metadata": {},
   "source": [
    "The Akaike Information Criterion (AIC) is a metric used to measure the quality of a statistical model. The formula for the AIC is: \n",
    "\n",
    "$ AIC = 2k - 2ln(\\hat L) $\n",
    "\n",
    "Where $\\hat L$ is the maximum value of the likelihood functin and the $ k $ is the number of estimated parameters in the model. A lower AIC value indicates a better model. It addresses  overfitting by increasing the $ k $ and consequently AIC when too many parameters are added. It addresses underfitting by increasing the likelihood for better performing models, and decreasing the AIC."
   ]
  },
  {
   "cell_type": "code",
   "execution_count": 9,
   "id": "701e4855",
   "metadata": {
    "scrolled": false
   },
   "outputs": [
    {
     "name": "stdout",
     "output_type": "stream",
     "text": [
      "Best SARIMAX order by AIC: (2, 2, 2)\n",
      "Best AIC: 377.315\n",
      "                               SARIMAX Results                                \n",
      "==============================================================================\n",
      "Dep. Variable:                    RG1   No. Observations:                   46\n",
      "Model:               SARIMAX(2, 2, 2)   Log Likelihood                -176.657\n",
      "Date:                Sun, 26 Jan 2025   AIC                            377.315\n",
      "Time:                        02:56:58   BIC                            397.878\n",
      "Sample:                    06-30-2010   HQIC                           384.803\n",
      "                         - 09-30-2021                                         \n",
      "Covariance Type:                  opg                                         \n",
      "===============================================================================\n",
      "                  coef    std err          z      P>|z|      [0.025      0.975]\n",
      "-------------------------------------------------------------------------------\n",
      "RG Lag 1       -0.6614      0.159     -4.148      0.000      -0.974      -0.349\n",
      "RG Lag 2       -0.8311      0.126     -6.604      0.000      -1.078      -0.584\n",
      "RG Lag 3       -0.3121      0.182     -1.713      0.087      -0.669       0.045\n",
      "Share Price    -0.0517      0.046     -1.120      0.263      -0.142       0.039\n",
      "GDP            -0.1587      0.832     -0.191      0.849      -1.790       1.473\n",
      "Inflation      -4.3598      4.609     -0.946      0.344     -13.394       4.674\n",
      "Interest        0.2510      0.430      0.584      0.559      -0.592       1.094\n",
      "ar.L1           0.1812      0.206      0.880      0.379      -0.222       0.584\n",
      "ar.L2          -0.6773      0.171     -3.953      0.000      -1.013      -0.342\n",
      "ma.L1          -0.0135      3.711     -0.004      0.997      -7.286       7.259\n",
      "ma.L2          -1.0016      2.862     -0.350      0.726      -6.611       4.608\n",
      "sigma2        281.0660    766.033      0.367      0.714   -1220.330    1782.462\n",
      "===================================================================================\n",
      "Ljung-Box (L1) (Q):                   0.11   Jarque-Bera (JB):                 1.83\n",
      "Prob(Q):                              0.74   Prob(JB):                         0.40\n",
      "Heteroskedasticity (H):               0.65   Skew:                             0.49\n",
      "Prob(H) (two-sided):                  0.42   Kurtosis:                         3.31\n",
      "===================================================================================\n",
      "\n",
      "Warnings:\n",
      "[1] Covariance matrix calculated using the outer product of gradients (complex-step).\n"
     ]
    }
   ],
   "source": [
    "best_aic = np.inf\n",
    "aic_best_order = None\n",
    "aic_best_model = None\n",
    "\n",
    "for order in param_grid:\n",
    "    try:\n",
    "        # Fit the model on the TRAINING data\n",
    "        model = SARIMAX(\n",
    "            train['RG1'],\n",
    "            exog=exog_train,    # exogenous variables (if any)\n",
    "            order=order,        # (p, d, q)\n",
    "            enforce_stationarity=False,\n",
    "            enforce_invertibility=False\n",
    "        )\n",
    "        aic_model_fit = model.fit(method='powell', disp=False)\n",
    "\n",
    "        \n",
    "        # Evaluate the model's AIC\n",
    "        aic = aic_model_fit.aic\n",
    "        \n",
    "        # If it's better than our current best, update\n",
    "        if aic < best_aic:\n",
    "            best_aic = aic\n",
    "            aic_best_order = order\n",
    "            aic_best_model = aic_model_fit\n",
    "\n",
    "    except Exception as e:\n",
    "        # Some parameter sets may fail to converge\n",
    "        pass\n",
    "\n",
    "print(f\"Best SARIMAX order by AIC: {aic_best_order}\")\n",
    "print(f\"Best AIC: {best_aic:.3f}\")\n",
    "print(aic_best_model.summary())"
   ]
  },
  {
   "cell_type": "markdown",
   "id": "2ba21fe6",
   "metadata": {},
   "source": [
    "### 2.1.2 Mean Squared Error (MSE)"
   ]
  },
  {
   "cell_type": "markdown",
   "id": "f83df623",
   "metadata": {},
   "source": [
    "The Mean Squared Error (MSE) is another way to find the quality of a statistical model. However, it works in a sllightly different way. Once a model has been fit, it is used to predict some values in a testing data set. The difference predicted values and the observed values is known as the MSE. It is calculated using the following formula:\n",
    "\n",
    "$$\\text{MSE} = \\frac{1}{n} \\sum_{i=1}^{n} (y_i - \\hat{y}_i)^2$$\n",
    "\n",
    "Much like the AIC, a smaller MSE indicates a better model. This is because it shows that the predicted values are closer to the actual values on average."
   ]
  },
  {
   "cell_type": "code",
   "execution_count": 10,
   "id": "8ba2045c",
   "metadata": {},
   "outputs": [
    {
     "name": "stdout",
     "output_type": "stream",
     "text": [
      "Best ARIMAX order by Test MSE: (0, 0, 0)\n",
      "Best Test MSE: 37.436\n",
      "                               SARIMAX Results                                \n",
      "==============================================================================\n",
      "Dep. Variable:                    RG1   No. Observations:                   46\n",
      "Model:                        SARIMAX   Log Likelihood                -193.845\n",
      "Date:                Sun, 26 Jan 2025   AIC                            403.690\n",
      "Time:                        02:57:13   BIC                            418.143\n",
      "Sample:                    06-30-2010   HQIC                           409.078\n",
      "                         - 09-30-2021                                         \n",
      "Covariance Type:                  opg                                         \n",
      "===============================================================================\n",
      "                  coef    std err          z      P>|z|      [0.025      0.975]\n",
      "-------------------------------------------------------------------------------\n",
      "RG Lag 1       -0.1456      0.209     -0.695      0.487      -0.556       0.265\n",
      "RG Lag 2        0.1084      0.210      0.515      0.606      -0.304       0.521\n",
      "RG Lag 3       -0.3505      0.164     -2.138      0.033      -0.672      -0.029\n",
      "Share Price    -0.0807      0.183     -0.440      0.660      -0.440       0.278\n",
      "GDP             1.6997      1.997      0.851      0.395      -2.215       5.614\n",
      "Inflation       0.2535      0.527      0.481      0.631      -0.780       1.287\n",
      "Interest        0.2201      0.235      0.936      0.349      -0.241       0.681\n",
      "sigma2        322.9354     79.363      4.069      0.000     167.386     478.484\n",
      "===================================================================================\n",
      "Ljung-Box (L1) (Q):                   0.03   Jarque-Bera (JB):                 5.65\n",
      "Prob(Q):                              0.87   Prob(JB):                         0.06\n",
      "Heteroskedasticity (H):               0.25   Skew:                             0.76\n",
      "Prob(H) (two-sided):                  0.01   Kurtosis:                         3.85\n",
      "===================================================================================\n",
      "\n",
      "Warnings:\n",
      "[1] Covariance matrix calculated using the outer product of gradients (complex-step).\n"
     ]
    }
   ],
   "source": [
    "\n",
    "best_mse = np.inf\n",
    "mse_best_order = None\n",
    "mse_best_model = None\n",
    "\n",
    "for order in param_grid:\n",
    "    try:\n",
    "        # 1. Fit the model on the training set\n",
    "        model = SARIMAX(\n",
    "            train['RG1'],\n",
    "            exog=exog_train,          # exogenous vars for training\n",
    "            order=order,              # (p, d, q)\n",
    "            enforce_stationarity=False,\n",
    "            enforce_invertibility=False\n",
    "        )\n",
    "        mse_model_fit = model.fit(method='powell', disp=False)\n",
    "\n",
    "        # 2. Generate forecast on the test set\n",
    "        mse_forecast = mse_model_fit.predict(\n",
    "            start=test.index[0],\n",
    "            end=test.index[-1],\n",
    "            exog=exog_test,          # exogenous vars for testing\n",
    "            dynamic=False\n",
    "        )\n",
    "\n",
    "        # 3. Compute MSE on the test set\n",
    "        mse = mean_squared_error(test['RG1'], mse_forecast)\n",
    "\n",
    "        # 4. Track the best model\n",
    "        if mse < best_mse:\n",
    "            best_mse = mse\n",
    "            mse_best_order = order\n",
    "            mse_best_model = mse_model_fit\n",
    "\n",
    "    except Exception as e:\n",
    "        # Some combos may fail to converge or throw an error\n",
    "        pass\n",
    "\n",
    "print(f\"Best ARIMAX order by Test MSE: {mse_best_order}\")\n",
    "print(f\"Best Test MSE: {best_mse:.3f}\")\n",
    "\n",
    "print(mse_best_model.summary())\n"
   ]
  },
  {
   "cell_type": "markdown",
   "id": "09b32ca3",
   "metadata": {},
   "source": [
    "### 2.1.3 Testing Alternative Models: Upper Bound"
   ]
  },
  {
   "cell_type": "markdown",
   "id": "073625dd",
   "metadata": {},
   "source": [
    "I have also included a couple other models with different values for the ARIMA terms. This is to get a greater selection of models. When going through the results, I will be using these additional models to get a deeper understanding of how the optimisation techniques used above work, and why certain combinations of terms were not used."
   ]
  },
  {
   "cell_type": "code",
   "execution_count": 11,
   "id": "efbd9565",
   "metadata": {},
   "outputs": [
    {
     "name": "stdout",
     "output_type": "stream",
     "text": [
      "                               SARIMAX Results                                \n",
      "==============================================================================\n",
      "Dep. Variable:                    RG1   No. Observations:                   46\n",
      "Model:               SARIMAX(2, 1, 2)   Log Likelihood                -181.080\n",
      "Date:                Sun, 26 Jan 2025   AIC                            386.161\n",
      "Time:                        02:57:30   BIC                            407.013\n",
      "Sample:                    06-30-2010   HQIC                           393.804\n",
      "                         - 09-30-2021                                         \n",
      "Covariance Type:                  opg                                         \n",
      "===============================================================================\n",
      "                  coef    std err          z      P>|z|      [0.025      0.975]\n",
      "-------------------------------------------------------------------------------\n",
      "RG Lag 1        0.8642      1.282      0.674      0.500      -1.649       3.377\n",
      "RG Lag 2       -0.6042      0.772     -0.782      0.434      -2.118       0.910\n",
      "RG Lag 3        0.0940      0.517      0.182      0.856      -0.919       1.107\n",
      "Share Price    -0.0602      0.146     -0.413      0.679      -0.346       0.225\n",
      "GDP             1.6422      1.812      0.906      0.365      -1.910       5.194\n",
      "Inflation      -1.1657      1.958     -0.595      0.552      -5.004       2.673\n",
      "Interest        0.2870      0.515      0.558      0.577      -0.722       1.296\n",
      "ar.L1          -0.5722      2.446     -0.234      0.815      -5.367       4.223\n",
      "ar.L2           0.1268      1.930      0.066      0.948      -3.657       3.910\n",
      "ma.L1          -1.2340     11.278     -0.109      0.913     -23.338      20.870\n",
      "ma.L2           0.2331      3.350      0.070      0.945      -6.333       6.799\n",
      "sigma2        299.6398   3314.826      0.090      0.928   -6197.300    6796.580\n",
      "===================================================================================\n",
      "Ljung-Box (L1) (Q):                   0.01   Jarque-Bera (JB):                 6.27\n",
      "Prob(Q):                              0.94   Prob(JB):                         0.04\n",
      "Heteroskedasticity (H):               0.33   Skew:                             0.81\n",
      "Prob(H) (two-sided):                  0.04   Kurtosis:                         3.97\n",
      "===================================================================================\n",
      "\n",
      "Warnings:\n",
      "[1] Covariance matrix calculated using the outer product of gradients (complex-step).\n"
     ]
    }
   ],
   "source": [
    "\n",
    "# Upper Bound\n",
    "\n",
    "ub_order = (2,1,2)\n",
    "\n",
    "# Initialize and fit the ARIMAX model\n",
    "ub_model = SARIMAX(train['RG1'],\n",
    "                exog=exog_train,\n",
    "                order=ub_order,\n",
    "                enforce_stationarity=False,\n",
    "                enforce_invertibility=False)\n",
    "\n",
    "ub_model_fit = ub_model.fit(method = 'powell', disp=False)\n",
    "\n",
    "# Print model summary\n",
    "print(ub_model_fit.summary())"
   ]
  },
  {
   "cell_type": "markdown",
   "id": "01da36d1",
   "metadata": {},
   "source": [
    "### 2.1.4 Testing Alternative Models: Lower Bound"
   ]
  },
  {
   "cell_type": "code",
   "execution_count": 12,
   "id": "3287b4a6",
   "metadata": {},
   "outputs": [
    {
     "name": "stdout",
     "output_type": "stream",
     "text": [
      "                               SARIMAX Results                                \n",
      "==============================================================================\n",
      "Dep. Variable:                    RG1   No. Observations:                   46\n",
      "Model:               SARIMAX(0, 1, 1)   Log Likelihood                -186.772\n",
      "Date:                Sun, 26 Jan 2025   AIC                            391.544\n",
      "Time:                        02:57:33   BIC                            407.395\n",
      "Sample:                    06-30-2010   HQIC                           397.389\n",
      "                         - 09-30-2021                                         \n",
      "Covariance Type:                  opg                                         \n",
      "===============================================================================\n",
      "                  coef    std err          z      P>|z|      [0.025      0.975]\n",
      "-------------------------------------------------------------------------------\n",
      "RG Lag 1       -0.1439      0.215     -0.671      0.502      -0.564       0.277\n",
      "RG Lag 2        0.0862      0.201      0.428      0.669      -0.309       0.481\n",
      "RG Lag 3       -0.3671      0.164     -2.239      0.025      -0.689      -0.046\n",
      "Share Price    -0.1115      0.163     -0.682      0.495      -0.432       0.209\n",
      "GDP             1.1196      1.869      0.599      0.549      -2.544       4.783\n",
      "Inflation      -1.9570      2.084     -0.939      0.348      -6.041       2.127\n",
      "Interest        0.4198      0.340      1.234      0.217      -0.247       1.087\n",
      "ma.L1          -0.9965      1.899     -0.525      0.600      -4.718       2.725\n",
      "sigma2        323.8312    632.639      0.512      0.609    -916.118    1563.780\n",
      "===================================================================================\n",
      "Ljung-Box (L1) (Q):                   0.20   Jarque-Bera (JB):                 8.86\n",
      "Prob(Q):                              0.66   Prob(JB):                         0.01\n",
      "Heteroskedasticity (H):               0.37   Skew:                             0.96\n",
      "Prob(H) (two-sided):                  0.07   Kurtosis:                         4.11\n",
      "===================================================================================\n",
      "\n",
      "Warnings:\n",
      "[1] Covariance matrix calculated using the outer product of gradients (complex-step).\n"
     ]
    }
   ],
   "source": [
    "\n",
    "# Lower Bound\n",
    "\n",
    "lb_order = (0,1,1)\n",
    "\n",
    "# Initialize and fit the ARIMAX model\n",
    "lb_model = SARIMAX(train['RG1'],\n",
    "                exog=exog_train,\n",
    "                order=lb_order,\n",
    "                enforce_stationarity=False,\n",
    "                enforce_invertibility=False)\n",
    "\n",
    "lb_model_fit = lb_model.fit(method = 'powell', disp=False)\n",
    "\n",
    "# Print model summary\n",
    "print(lb_model_fit.summary())"
   ]
  },
  {
   "cell_type": "markdown",
   "id": "5ee42b08",
   "metadata": {},
   "source": [
    "## 2.2 Display Training and Testing Results"
   ]
  },
  {
   "cell_type": "markdown",
   "id": "8a5739a9",
   "metadata": {},
   "source": [
    "### 2.2.1 AIC Results"
   ]
  },
  {
   "cell_type": "code",
   "execution_count": 13,
   "id": "b9803703",
   "metadata": {},
   "outputs": [
    {
     "data": {
      "image/png": "[encoded data removed]",
      "text/plain": [
       "<Figure size 864x432 with 1 Axes>"
      ]
     },
     "metadata": {
      "needs_background": "light"
     },
     "output_type": "display_data"
    },
    {
     "name": "stdout",
     "output_type": "stream",
     "text": [
      "Mean Squared Error: 2804.635072042705\n"
     ]
    }
   ],
   "source": [
    "# Generate predictions for the test set\n",
    "aic_forecast = aic_best_model.predict(start=test.index[0],\n",
    "                             end=test.index[-1],\n",
    "                             exog=exog_test,\n",
    "                             dynamic=False)\n",
    "\n",
    "# Plot the results\n",
    "plt.figure(figsize=(12, 6))\n",
    "plt.plot(train['RG1'], label='Training Data')\n",
    "plt.plot(test['RG1'], label='Actual Revenue Growth', color='blue')\n",
    "plt.plot(aic_forecast, label='AIC Forecasted Revenue Growth', color='red')\n",
    "plt.title('AIC Forecasted vs Actual Revenue Growth (order = (2,2,2))')\n",
    "plt.xlabel('Date')\n",
    "plt.ylabel('Revenue Growth')\n",
    "plt.legend()\n",
    "plt.show()\n",
    "print(\"Mean Squared Error:\",mean_squared_error(test['RG1'], aic_forecast))"
   ]
  },
  {
   "cell_type": "markdown",
   "id": "3b380b54",
   "metadata": {},
   "source": [
    "### 2.2.2 MSE Results"
   ]
  },
  {
   "cell_type": "code",
   "execution_count": 14,
   "id": "70b75a60",
   "metadata": {},
   "outputs": [
    {
     "data": {
      "image/png": "[encoded data removed]",
      "text/plain": [
       "<Figure size 864x432 with 1 Axes>"
      ]
     },
     "metadata": {
      "needs_background": "light"
     },
     "output_type": "display_data"
    },
    {
     "name": "stdout",
     "output_type": "stream",
     "text": [
      "Mean Squared Error: 37.43554472034159\n"
     ]
    }
   ],
   "source": [
    "# Generate predictions for the test set\n",
    "mse_forecast = mse_best_model.predict(start=test.index[0],\n",
    "                             end=test.index[-1],\n",
    "                             exog=exog_test,\n",
    "                             dynamic=False)\n",
    "\n",
    "# Plot the results\n",
    "plt.figure(figsize=(12, 6))\n",
    "plt.plot(train['RG1'], label='Training Data')\n",
    "plt.plot(test['RG1'], label='Actual Revenue Growth', color='blue')\n",
    "plt.plot(mse_forecast, label='MSE Forecasted Revenue Growth', color='red')\n",
    "plt.title('AIC Forecasted vs Actual Revenue Growth (order = (0,0,0))')\n",
    "plt.xlabel('Date')\n",
    "plt.ylabel('Revenue Growth')\n",
    "plt.legend()\n",
    "plt.show()\n",
    "print(\"Mean Squared Error:\",mean_squared_error(test['RG1'], mse_forecast))"
   ]
  },
  {
   "cell_type": "markdown",
   "id": "4e865778",
   "metadata": {},
   "source": [
    "### 2.2.3 Upper Bound Results"
   ]
  },
  {
   "cell_type": "code",
   "execution_count": 15,
   "id": "bb952816",
   "metadata": {},
   "outputs": [
    {
     "data": {
      "image/png": "[encoded data removed]",
      "text/plain": [
       "<Figure size 864x432 with 1 Axes>"
      ]
     },
     "metadata": {
      "needs_background": "light"
     },
     "output_type": "display_data"
    },
    {
     "name": "stdout",
     "output_type": "stream",
     "text": [
      "Mean Squared Error: 102.44175735007339\n"
     ]
    }
   ],
   "source": [
    "# Generate predictions for the test set\n",
    "ub_forecast = ub_model_fit.predict(start=test.index[0],\n",
    "                             end=test.index[-1],\n",
    "                             exog=exog_test,\n",
    "                             dynamic=False)\n",
    "\n",
    "# Plot the results\n",
    "plt.figure(figsize=(12, 6))\n",
    "plt.plot(train['RG1'], label='Training Data')\n",
    "plt.plot(test['RG1'], label='Actual Revenue Growth', color='blue')\n",
    "plt.plot(ub_forecast, label='UB Forecasted Revenue Growth', color='red')\n",
    "plt.title('UB Forecasted vs Actual Revenue Growth (order = (2,1,2))')\n",
    "plt.xlabel('Date')\n",
    "plt.ylabel('Revenue Growth')\n",
    "plt.legend()\n",
    "plt.show()\n",
    "print(\"Mean Squared Error:\",mean_squared_error(test['RG1'], ub_forecast))"
   ]
  },
  {
   "cell_type": "markdown",
   "id": "58ecadef",
   "metadata": {},
   "source": [
    "### 2.2.4 Lower Bound Results"
   ]
  },
  {
   "cell_type": "code",
   "execution_count": 16,
   "id": "cf5e4a86",
   "metadata": {},
   "outputs": [
    {
     "data": {
      "image/png": "[encoded data removed]",
      "text/plain": [
       "<Figure size 864x432 with 1 Axes>"
      ]
     },
     "metadata": {
      "needs_background": "light"
     },
     "output_type": "display_data"
    },
    {
     "name": "stdout",
     "output_type": "stream",
     "text": [
      "Mean Squared Error: 42.99112951996283\n"
     ]
    }
   ],
   "source": [
    "# Generate predictions for the test set\n",
    "lb_forecast = lb_model_fit.predict(start=test.index[0],\n",
    "                             end=test.index[-1],\n",
    "                             exog=exog_test,\n",
    "                             dynamic=False)\n",
    "\n",
    "# Plot the results\n",
    "plt.figure(figsize=(12, 6))\n",
    "plt.plot(train['RG1'], label='Training Data')\n",
    "plt.plot(test['RG1'], label='Actual Revenue Growth', color='blue')\n",
    "plt.plot(lb_forecast, label='LB Forecasted Revenue Growth', color='red')\n",
    "plt.title('LB Forecasted vs Actual Revenue Growth (order = (0,1,1))')\n",
    "plt.xlabel('Date')\n",
    "plt.ylabel('Revenue Growth')\n",
    "plt.legend()\n",
    "plt.show()\n",
    "print(\"Mean Squared Error:\",mean_squared_error(test['RG1'], lb_forecast))"
   ]
  },
  {
   "cell_type": "markdown",
   "id": "8eea6179",
   "metadata": {},
   "source": [
    "# 3.0 Conclusion & Summary Results"
   ]
  },
  {
   "cell_type": "markdown",
   "id": "345acf40",
   "metadata": {},
   "source": [
    "Quite a lot can be learned about each of the models based on the graphs they producted for the forecasted Revenue growth against the Actual revenue growth.\n",
    "\n",
    "\n",
    "## 3.1 AIC\n",
    "Firstly, the AIC model. While the AIC model had the least negative Log Likelihood and AIC (which typically indicate a better model), the forecasted values were far too high. The MSE for this model was almost 3,000, indicating that it was clearly the worst. This is a very common trend in models that suffer from overfitting to the training data. This makes sense, given that the AIC is calculated based on the training data. the MLE $ \\hat L $ is the maximum likelihood of fitting the training data. Additionally, the training data had significantly higher Revenue Growth values than the test data set, which can be seen given how high the AIC forecasts are. Therefore, in an attempt to accurately reproduce the relationships between variables, the model captured too much noise \n",
    "\n",
    "## 3.2 MSE\n",
    "Naturally, the MSE-Optimised model had the lowest MSE, and thus the best performance. However, the biggest concern for the model might be underfitting. While the predictions do follow the general trend of the model, there is hardly any seasonality. The predictions follow a very simple straight line, and the (0,0,0) indicate no AutoRegressive behaviour in the data, no differencing needed to make the data stationary, and no moving\n",
    "\n",
    "## 3.3 Alternative Models\n",
    "The models with (0,1,1) and (2,1,2) both landed somewhere in between the AIC and MSE models. The forecasted revenue growth of both the UB and the LB model looked much closer to the testing data. Visually, they followed a similar trend and seasonality to the data. \n",
    "\n",
    "As one would expect, The UB model was closer to the overfitted AIC-optimised model, while the LB model was closer to the MSE-optimised. The UB model had a MSE of over 100 (the second worst MSE), but also had the second best Likelihood and AIC. The LB model on the other had had a MSE just under 43, very close to the MSE-optimised model, and an AIC of 391, only slightly larger than the UB model which had an AIC of 386.\n",
    "\n",
    "I believe the LB model performed the best with the testing data, and was the model used to make predictions for the 2024 Q4 financials. The model moderately balanced variance and bias, and consequently managed to limit both overfitting and underfitting. However, both of the alternative models indicated that looking out for exclusively 1 metric when optimising did skew the model.\n"
   ]
  },
  {
   "cell_type": "markdown",
   "id": "44660ef2",
   "metadata": {},
   "source": [
    "# 4.0 Predictions with the Full Dataset"
   ]
  },
  {
   "cell_type": "markdown",
   "id": "01f9d20e",
   "metadata": {},
   "source": [
    "## 4.1 Import full data set for training"
   ]
  },
  {
   "cell_type": "code",
   "execution_count": 17,
   "id": "33675782",
   "metadata": {},
   "outputs": [
    {
     "data": {
      "text/html": [
       "<div>\n",
       "<style scoped>\n",
       "    .dataframe tbody tr th:only-of-type {\n",
       "        vertical-align: middle;\n",
       "    }\n",
       "\n",
       "    .dataframe tbody tr th {\n",
       "        vertical-align: top;\n",
       "    }\n",
       "\n",
       "    .dataframe thead th {\n",
       "        text-align: right;\n",
       "    }\n",
       "</style>\n",
       "<table border=\"1\" class=\"dataframe\">\n",
       "  <thead>\n",
       "    <tr style=\"text-align: right;\">\n",
       "      <th></th>\n",
       "      <th>RG1</th>\n",
       "      <th>RG Lag 1</th>\n",
       "      <th>RG Lag 2</th>\n",
       "      <th>RG Lag 3</th>\n",
       "      <th>Share Price</th>\n",
       "      <th>GDP</th>\n",
       "      <th>Inflation</th>\n",
       "      <th>Interest</th>\n",
       "    </tr>\n",
       "  </thead>\n",
       "  <tbody>\n",
       "    <tr>\n",
       "      <th>2010-06-30</th>\n",
       "      <td>1.649359</td>\n",
       "      <td>-4.770215</td>\n",
       "      <td>-5.757052</td>\n",
       "      <td>7.626561</td>\n",
       "      <td>-2.642559</td>\n",
       "      <td>0.9</td>\n",
       "      <td>4.84</td>\n",
       "      <td>17.142857</td>\n",
       "    </tr>\n",
       "    <tr>\n",
       "      <th>2010-09-30</th>\n",
       "      <td>11.959135</td>\n",
       "      <td>1.649359</td>\n",
       "      <td>-3.199535</td>\n",
       "      <td>-4.202648</td>\n",
       "      <td>5.000000</td>\n",
       "      <td>0.9</td>\n",
       "      <td>4.70</td>\n",
       "      <td>4.878049</td>\n",
       "    </tr>\n",
       "    <tr>\n",
       "      <th>2010-12-31</th>\n",
       "      <td>20.021471</td>\n",
       "      <td>11.959135</td>\n",
       "      <td>13.805742</td>\n",
       "      <td>8.376963</td>\n",
       "      <td>-2.721088</td>\n",
       "      <td>1.4</td>\n",
       "      <td>5.91</td>\n",
       "      <td>0.000000</td>\n",
       "    </tr>\n",
       "    <tr>\n",
       "      <th>2011-03-31</th>\n",
       "      <td>-8.944544</td>\n",
       "      <td>20.021471</td>\n",
       "      <td>34.375000</td>\n",
       "      <td>36.591326</td>\n",
       "      <td>15.664336</td>\n",
       "      <td>1.6</td>\n",
       "      <td>6.30</td>\n",
       "      <td>9.302326</td>\n",
       "    </tr>\n",
       "    <tr>\n",
       "      <th>2011-06-30</th>\n",
       "      <td>17.730845</td>\n",
       "      <td>-8.944544</td>\n",
       "      <td>9.286098</td>\n",
       "      <td>22.355769</td>\n",
       "      <td>2.539299</td>\n",
       "      <td>0.7</td>\n",
       "      <td>6.71</td>\n",
       "      <td>4.255319</td>\n",
       "    </tr>\n",
       "  </tbody>\n",
       "</table>\n",
       "</div>"
      ],
      "text/plain": [
       "                  RG1   RG Lag 1   RG Lag 2   RG Lag 3  Share Price  GDP  \\\n",
       "2010-06-30   1.649359  -4.770215  -5.757052   7.626561    -2.642559  0.9   \n",
       "2010-09-30  11.959135   1.649359  -3.199535  -4.202648     5.000000  0.9   \n",
       "2010-12-31  20.021471  11.959135  13.805742   8.376963    -2.721088  1.4   \n",
       "2011-03-31  -8.944544  20.021471  34.375000  36.591326    15.664336  1.6   \n",
       "2011-06-30  17.730845  -8.944544   9.286098  22.355769     2.539299  0.7   \n",
       "\n",
       "            Inflation   Interest  \n",
       "2010-06-30       4.84  17.142857  \n",
       "2010-09-30       4.70   4.878049  \n",
       "2010-12-31       5.91   0.000000  \n",
       "2011-03-31       6.30   9.302326  \n",
       "2011-06-30       6.71   4.255319  "
      ]
     },
     "execution_count": 17,
     "metadata": {},
     "output_type": "execute_result"
    }
   ],
   "source": [
    "full_data.head()"
   ]
  },
  {
   "cell_type": "markdown",
   "id": "824402a3",
   "metadata": {},
   "source": [
    "## 4.2 Train the model on the ENTIRE dataset"
   ]
  },
  {
   "cell_type": "code",
   "execution_count": 18,
   "id": "ce84e08a",
   "metadata": {},
   "outputs": [
    {
     "name": "stdout",
     "output_type": "stream",
     "text": [
      "                               SARIMAX Results                                \n",
      "==============================================================================\n",
      "Dep. Variable:                    RG1   No. Observations:                   58\n",
      "Model:               SARIMAX(0, 1, 1)   Log Likelihood                -232.703\n",
      "Date:                Sun, 26 Jan 2025   AIC                            483.406\n",
      "Time:                        02:57:54   BIC                            501.472\n",
      "Sample:                    06-30-2010   HQIC                           490.393\n",
      "                         - 09-30-2024                                         \n",
      "Covariance Type:                  opg                                         \n",
      "===============================================================================\n",
      "                  coef    std err          z      P>|z|      [0.025      0.975]\n",
      "-------------------------------------------------------------------------------\n",
      "RG Lag 1       -0.1234      0.165     -0.748      0.455      -0.447       0.200\n",
      "RG Lag 2        0.0726      0.161      0.452      0.651      -0.242       0.387\n",
      "RG Lag 3       -0.3752      0.124     -3.031      0.002      -0.618      -0.133\n",
      "Share Price    -0.1240      0.137     -0.906      0.365      -0.392       0.144\n",
      "GDP             1.1493      1.484      0.774      0.439      -1.759       4.058\n",
      "Inflation      -1.4830      1.542     -0.962      0.336      -4.505       1.539\n",
      "Interest        0.3645      0.244      1.496      0.135      -0.113       0.842\n",
      "ma.L1          -1.0001     72.710     -0.014      0.989    -143.509     141.509\n",
      "sigma2        260.5060   1.89e+04      0.014      0.989   -3.69e+04    3.74e+04\n",
      "===================================================================================\n",
      "Ljung-Box (L1) (Q):                   0.09   Jarque-Bera (JB):                13.55\n",
      "Prob(Q):                              0.76   Prob(JB):                         0.00\n",
      "Heteroskedasticity (H):               0.20   Skew:                             0.90\n",
      "Prob(H) (two-sided):                  0.00   Kurtosis:                         4.63\n",
      "===================================================================================\n",
      "\n",
      "Warnings:\n",
      "[1] Covariance matrix calculated using the outer product of gradients (complex-step).\n"
     ]
    }
   ],
   "source": [
    "\n",
    "\n",
    "# Extract all exogenous variables from the full_data DataFrame\n",
    "exog_all = full_data[\n",
    "    ['RG Lag 1', 'RG Lag 2', 'RG Lag 3', \n",
    "     'Share Price', 'GDP', 'Inflation', 'Interest']\n",
    "]\n",
    "\n",
    "\n",
    "# Use the ARIMA order (p, d, q) with terms (0, 1, 1)\n",
    "order = (0,1,1)\n",
    "\n",
    "# Initialize and fit the SARIMAX model on the entire dataset\n",
    "model_all = SARIMAX(\n",
    "    full_data['RG1'],\n",
    "    exog=exog_all,\n",
    "    order=order,\n",
    "    enforce_stationarity=False,\n",
    "    enforce_invertibility=False\n",
    ")\n",
    "\n",
    "model_fit_all = model_all.fit(disp=False)\n",
    "print(model_fit_all.summary())\n"
   ]
  },
  {
   "cell_type": "markdown",
   "id": "35d3614b",
   "metadata": {},
   "source": [
    "## 4.3 2024 Q4 Inputs"
   ]
  },
  {
   "cell_type": "code",
   "execution_count": 19,
   "id": "924eb210",
   "metadata": {},
   "outputs": [
    {
     "name": "stdout",
     "output_type": "stream",
     "text": [
      "New exogenous data for prediction:\n"
     ]
    },
    {
     "data": {
      "text/html": [
       "<div>\n",
       "<style scoped>\n",
       "    .dataframe tbody tr th:only-of-type {\n",
       "        vertical-align: middle;\n",
       "    }\n",
       "\n",
       "    .dataframe tbody tr th {\n",
       "        vertical-align: top;\n",
       "    }\n",
       "\n",
       "    .dataframe thead th {\n",
       "        text-align: right;\n",
       "    }\n",
       "</style>\n",
       "<table border=\"1\" class=\"dataframe\">\n",
       "  <thead>\n",
       "    <tr style=\"text-align: right;\">\n",
       "      <th></th>\n",
       "      <th>RG Lag 1</th>\n",
       "      <th>RG Lag 2</th>\n",
       "      <th>RG Lag 3</th>\n",
       "      <th>Share Price</th>\n",
       "      <th>GDP</th>\n",
       "      <th>Inflation</th>\n",
       "      <th>Interest</th>\n",
       "    </tr>\n",
       "  </thead>\n",
       "  <tbody>\n",
       "    <tr>\n",
       "      <th>0</th>\n",
       "      <td>1.216814</td>\n",
       "      <td>0.054675</td>\n",
       "      <td>-8.682635</td>\n",
       "      <td>-2.54386</td>\n",
       "      <td>-0.1</td>\n",
       "      <td>4.83</td>\n",
       "      <td>13.953488</td>\n",
       "    </tr>\n",
       "  </tbody>\n",
       "</table>\n",
       "</div>"
      ],
      "text/plain": [
       "   RG Lag 1  RG Lag 2  RG Lag 3  Share Price  GDP  Inflation   Interest\n",
       "0  1.216814  0.054675 -8.682635     -2.54386 -0.1       4.83  13.953488"
      ]
     },
     "execution_count": 19,
     "metadata": {},
     "output_type": "execute_result"
    }
   ],
   "source": [
    "\n",
    "# Create a data frame with the new input for prediction\n",
    "\n",
    "\n",
    "Prediction_input = pd.DataFrame({\n",
    "    'RG Lag 1': [1.216814159],\n",
    "    'RG Lag 2': [0.054674686],\n",
    "    'RG Lag 3': [-8.682634731],\n",
    "    'Share Price': [-2.543859649],\n",
    "    'GDP': [-0.1], \n",
    "    'Inflation': [4.83],\n",
    "    'Interest': [13.95348837]\n",
    "})\n",
    "\n",
    "\n",
    "print(\"New exogenous data for prediction:\")\n",
    "Prediction_input\n",
    "\n"
   ]
  },
  {
   "cell_type": "markdown",
   "id": "3951799f",
   "metadata": {},
   "source": [
    "## 4.4 Make the Prediction"
   ]
  },
  {
   "cell_type": "code",
   "execution_count": 20,
   "id": "9be867e4",
   "metadata": {},
   "outputs": [
    {
     "name": "stdout",
     "output_type": "stream",
     "text": [
      "Single-step forecasted Revenue Growth:\n",
      "The predicted Revenue Growth from Q3 of 2024 to Q4 of 2024 is 12.43%\n"
     ]
    }
   ],
   "source": [
    "\n",
    "start_index = len(full_data)\n",
    "end_index = len(full_data)  # same index for a single-step forecast\n",
    "\n",
    "single_forecast = model_fit_all.predict(\n",
    "    start=start_index,\n",
    "    end=end_index,\n",
    "    exog=Prediction_input,\n",
    ")\n",
    "\n",
    "\n",
    "\n",
    "\n",
    "print(\"Single-step forecasted Revenue Growth:\")\n",
    "print(f'The predicted Revenue Growth from Q3 of 2024 to Q4 of 2024 is {round(single_forecast.iloc[0],2)}%')\n"
   ]
  }
 ],
 "metadata": {
  "kernelspec": {
   "display_name": "Python 3 (ipykernel)",
   "language": "python",
   "name": "python3"
  },
  "language_info": {
   "codemirror_mode": {
    "name": "ipython",
    "version": 3
   },
   "file_extension": ".py",
   "mimetype": "text/x-python",
   "name": "python",
   "nbconvert_exporter": "python",
   "pygments_lexer": "ipython3",
   "version": "3.9.7"
  }
 },
 "nbformat": 4,
 "nbformat_minor": 5
}
